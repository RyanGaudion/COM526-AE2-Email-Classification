{
 "cells": [
  {
   "cell_type": "code",
   "execution_count": 1,
   "id": "b1972ccd",
   "metadata": {},
   "outputs": [],
   "source": [
    "# Imports\n",
    "import numpy as np\n",
    "import pandas as pd\n",
    "import os\n",
    "import email\n",
    "from email import policy\n",
    "from bs4 import BeautifulSoup"
   ]
  },
  {
   "cell_type": "code",
   "execution_count": 2,
   "id": "9cb8e408",
   "metadata": {},
   "outputs": [
    {
     "name": "stdout",
     "output_type": "stream",
     "text": [
      "Size of Spam Data: 501\n",
      "Size of Ham Data: 2551\n"
     ]
    }
   ],
   "source": [
    "# Print size of data\n",
    "print(\"Size of Spam Data:\", len(os.listdir('./Data/archive/spam/')))\n",
    "print(\"Size of Ham Data:\", len(os.listdir('./Data/archive/ham/')))"
   ]
  },
  {
   "cell_type": "code",
   "execution_count": 3,
   "id": "d8207ab7",
   "metadata": {},
   "outputs": [
    {
     "name": "stdout",
     "output_type": "stream",
     "text": [
      "Read Email Content Errors: 3\n",
      "Wrong Email Content Type: 0\n"
     ]
    }
   ],
   "source": [
    "# Import Raw Data\n",
    "\n",
    "directory = './Data/archive/'\n",
    "\n",
    "contents = []\n",
    "subject = []\n",
    "labels = []\n",
    "fromSenders = []\n",
    "\n",
    "error = 0\n",
    "wrongContentType = 0\n",
    "\n",
    "def payloadToContent(payload):\n",
    "    finalContent = \"\"\n",
    "    for i in range(len(payload)):\n",
    "        try:\n",
    "            if(isinstance(payload[i], str)):\n",
    "                finalContent += payload[i]\n",
    "            elif payload[i].get_content_type() == 'text/plain':\n",
    "                finalContent += payload[i].get_content()\n",
    "            elif payload[i].get_content_type() == 'text/html':\n",
    "                finalContent += BeautifulSoup(payload[i].get_content()).body.text\n",
    "            elif \"multipart\" in payload[i].get_content_type():\n",
    "                finalContent += payloadToContent(payload[i].get_payload())\n",
    "        except LookupError:\n",
    "            pass\n",
    "    return finalContent\n",
    "\n",
    "for label in ['ham/', 'spam/']:\n",
    "    labelDirectory = os.listdir(directory + label)\n",
    "    for file in labelDirectory:\n",
    "        with open((directory + label + file), 'rb') as file:\n",
    "            email_file = email.parser.BytesParser(policy=email.policy.default).parse(file)\n",
    "            try:\n",
    "                \n",
    "                if email_file.get_content_type() == 'text/plain':\n",
    "                    contents.append(email_file.get_content())\n",
    "                elif email_file.get_content_type() == 'text/html':\n",
    "                    contents.append(BeautifulSoup(email_file.get_content()).body.text)\n",
    "                elif email_file.get_content_type() in ['multipart/signed', 'multipart/mixed', 'multipart/report', 'multipart/related', 'multipart/alternative']:\n",
    "                    contents.append(payloadToContent(email_file.get_payload()))\n",
    "                else:\n",
    "                    wrongContentType += 1\n",
    "                    continue\n",
    "                subject.append(email_file['Subject'] or \"\")\n",
    "                labels.append(label)\n",
    "                fromSenders.append(email_file['From'] or \"\")\n",
    "            except LookupError:\n",
    "                error +=1\n",
    "                pass\n",
    "            \n",
    "print(\"Read Email Content Errors: \" + str(error))\n",
    "print(\"Wrong Email Content Type: \" + str(wrongContentType))"
   ]
  },
  {
   "cell_type": "code",
   "execution_count": 4,
   "id": "4e92e67a",
   "metadata": {},
   "outputs": [],
   "source": [
    "# Convert to Dataframe\n",
    "df = pd.DataFrame({'subject': subject, 'content': contents, 'label': labels, 'from': fromSenders})"
   ]
  },
  {
   "cell_type": "code",
   "execution_count": 5,
   "id": "930fbc0e",
   "metadata": {},
   "outputs": [
    {
     "data": {
      "text/plain": [
       "'Re: New Sequences Window'"
      ]
     },
     "execution_count": 5,
     "metadata": {},
     "output_type": "execute_result"
    }
   ],
   "source": [
    "# Look at example email - we can see it contains headers, sender & content\n",
    "df.iloc[0].subject"
   ]
  },
  {
   "cell_type": "code",
   "execution_count": 6,
   "id": "e6710ebe",
   "metadata": {},
   "outputs": [
    {
     "data": {
      "text/plain": [
       "subject    0\n",
       "content    0\n",
       "label      0\n",
       "from       0\n",
       "dtype: int64"
      ]
     },
     "execution_count": 6,
     "metadata": {},
     "output_type": "execute_result"
    }
   ],
   "source": [
    "# Check for imported null values in our data that could ruin it\n",
    "df.isnull().sum()"
   ]
  },
  {
   "cell_type": "code",
   "execution_count": 7,
   "id": "55f327da",
   "metadata": {},
   "outputs": [],
   "source": [
    "# Encode \"spam/\" & \"ham/\" to 0 & 1\n",
    "from sklearn.preprocessing import LabelEncoder\n",
    "encoder = LabelEncoder()\n",
    "df['label'] = encoder.fit_transform(df['label'])"
   ]
  },
  {
   "cell_type": "code",
   "execution_count": 8,
   "id": "a77133a6",
   "metadata": {},
   "outputs": [
    {
     "data": {
      "text/html": [
       "<div>\n",
       "<style scoped>\n",
       "    .dataframe tbody tr th:only-of-type {\n",
       "        vertical-align: middle;\n",
       "    }\n",
       "\n",
       "    .dataframe tbody tr th {\n",
       "        vertical-align: top;\n",
       "    }\n",
       "\n",
       "    .dataframe thead th {\n",
       "        text-align: right;\n",
       "    }\n",
       "</style>\n",
       "<table border=\"1\" class=\"dataframe\">\n",
       "  <thead>\n",
       "    <tr style=\"text-align: right;\">\n",
       "      <th></th>\n",
       "      <th>subject</th>\n",
       "      <th>content</th>\n",
       "      <th>label</th>\n",
       "      <th>from</th>\n",
       "    </tr>\n",
       "  </thead>\n",
       "  <tbody>\n",
       "    <tr>\n",
       "      <th>0</th>\n",
       "      <td>re: new sequences window</td>\n",
       "      <td>date:        wed, 21 aug 2002 10:54:46 -05...</td>\n",
       "      <td>0</td>\n",
       "      <td>robert elz &lt;kre@munnari.oz.au&gt;</td>\n",
       "    </tr>\n",
       "    <tr>\n",
       "      <th>1</th>\n",
       "      <td>[zzzzteana] re: alexander</td>\n",
       "      <td>martin a posted: tassos papadopoulos, the gree...</td>\n",
       "      <td>0</td>\n",
       "      <td>steve burt &lt;steve_burt@cursor-system.com&gt;</td>\n",
       "    </tr>\n",
       "    <tr>\n",
       "      <th>2</th>\n",
       "      <td>[zzzzteana] moscow bomber</td>\n",
       "      <td>man threatens explosion in moscow   thursday a...</td>\n",
       "      <td>0</td>\n",
       "      <td>tim chapman &lt;timc@2ubh.com&gt;</td>\n",
       "    </tr>\n",
       "    <tr>\n",
       "      <th>3</th>\n",
       "      <td>[irr] klez: the virus that  won't die</td>\n",
       "      <td>klez: the virus that won't die   already the m...</td>\n",
       "      <td>0</td>\n",
       "      <td>monty solomon &lt;monty@roscom.com&gt;</td>\n",
       "    </tr>\n",
       "    <tr>\n",
       "      <th>4</th>\n",
       "      <td>re: insert signature</td>\n",
       "      <td>on wed aug 21 2002 at 15:46, ulises ponce wrot...</td>\n",
       "      <td>0</td>\n",
       "      <td>tony nugent &lt;tony@linuxworks.com.au&gt;</td>\n",
       "    </tr>\n",
       "  </tbody>\n",
       "</table>\n",
       "</div>"
      ],
      "text/plain": [
       "                                 subject  \\\n",
       "0               re: new sequences window   \n",
       "1              [zzzzteana] re: alexander   \n",
       "2              [zzzzteana] moscow bomber   \n",
       "3  [irr] klez: the virus that  won't die   \n",
       "4                   re: insert signature   \n",
       "\n",
       "                                             content  label  \\\n",
       "0      date:        wed, 21 aug 2002 10:54:46 -05...      0   \n",
       "1  martin a posted: tassos papadopoulos, the gree...      0   \n",
       "2  man threatens explosion in moscow   thursday a...      0   \n",
       "3  klez: the virus that won't die   already the m...      0   \n",
       "4  on wed aug 21 2002 at 15:46, ulises ponce wrot...      0   \n",
       "\n",
       "                                        from  \n",
       "0             robert elz <kre@munnari.oz.au>  \n",
       "1  steve burt <steve_burt@cursor-system.com>  \n",
       "2                tim chapman <timc@2ubh.com>  \n",
       "3           monty solomon <monty@roscom.com>  \n",
       "4       tony nugent <tony@linuxworks.com.au>  "
      ]
     },
     "execution_count": 8,
     "metadata": {},
     "output_type": "execute_result"
    }
   ],
   "source": [
    "# Convert email content to lowercase (Casing of words shouldn't effect spam or not)\n",
    "# Item 2 we can see \\n for newline, there might also be \\t for tab or \\r for return\n",
    "# New lines won't add much value so lets replace them with space instead\n",
    "columnArray = ['content', 'from', 'subject']\n",
    "for column in columnArray:\n",
    "    df[column] = df[column].apply(lambda x:x.lower())\n",
    "    df[column] = df[column].apply(lambda x: x.replace('\\n', ' '))\n",
    "    df[column] = df[column].apply(lambda x: x.replace('\\t', ' '))\n",
    "    df[column] = df[column].apply(lambda x: x.replace('\\r', ' '))\n",
    "    \n",
    "df.head()"
   ]
  },
  {
   "cell_type": "code",
   "execution_count": 9,
   "id": "5eaf6323",
   "metadata": {},
   "outputs": [
    {
     "name": "stderr",
     "output_type": "stream",
     "text": [
      "[nltk_data] Downloading package stopwords to\n",
      "[nltk_data]     C:\\Users\\rgaud\\AppData\\Roaming\\nltk_data...\n",
      "[nltk_data]   Package stopwords is already up-to-date!\n"
     ]
    }
   ],
   "source": [
    "# Stemming - Find the root of every word\n",
    "import nltk #Natural Language Toolkit\n",
    "nltk.download('stopwords')\n",
    "\n",
    "import re #Regular Expression\n",
    "from nltk.stem import PorterStemmer\n",
    "from nltk.corpus import stopwords\n",
    "\n",
    "ps = PorterStemmer()\n"
   ]
  },
  {
   "cell_type": "code",
   "execution_count": 10,
   "id": "fd054779",
   "metadata": {},
   "outputs": [
    {
     "data": {
      "application/vnd.jupyter.widget-view+json": {
       "model_id": "6e64c4c073b8460896e0569464e5839e",
       "version_major": 2,
       "version_minor": 0
      },
      "text/plain": [
       "IntProgress(value=0, max=3049)"
      ]
     },
     "metadata": {},
     "output_type": "display_data"
    }
   ],
   "source": [
    "# Needs to do this 3051 times - takes a while 5 mins - implemented progress bar\n",
    "from ipywidgets import IntProgress\n",
    "from IPython.display import display\n",
    "\n",
    "f = IntProgress(min=0, max=len(df)) # instantiate the bar\n",
    "display(f) # display the bar\n",
    "\n",
    "processedContent = []\n",
    "processedFrom = []\n",
    "processedSubject = []\n",
    "\n",
    "for i in range(len(df)):\n",
    "    f.value = i\n",
    "    for column in columnArray:\n",
    "        # Remove special charactors & numbers - uses Regex\n",
    "        review = re.sub('[^a-zA-Z]', ' ', df[column][i])\n",
    "        review = review.split()\n",
    "        # Get the stem of the word if the word is not in StopWords\n",
    "        # Stop words include a, on, at, to, and ... \n",
    "        review = [ps.stem(word) for word in review if word not in stopwords.words('english')]\n",
    "        review = ' '.join(review)\n",
    "        if(column == 'content'):\n",
    "            processedContent.append(review)\n",
    "        elif(column == 'from'):\n",
    "            processedFrom.append(review)\n",
    "        elif(column == 'subject'):\n",
    "            processedSubject.append(review)\n",
    "            \n",
    "#combined = []\n",
    "#for i in range(len(processedContent)):\n",
    "#    combined.append(processedContent[i] + \" \" + processedFrom[i] + \" \" + processedSubject[i])"
   ]
  },
  {
   "cell_type": "code",
   "execution_count": 22,
   "id": "c6651aa2",
   "metadata": {},
   "outputs": [],
   "source": [
    "# Using \"Bag of Words\" - converts the count of words to a simple vector\n",
    "from sklearn.feature_extraction.text import CountVectorizer\n",
    "cv = CountVectorizer(max_features = 3000) # Number of words to use in \"Bag of Words\"\n",
    "X1 =  cv.fit_transform(processedContent).toarray()\n",
    "X2 =  cv.fit_transform(processedFrom).toarray()\n",
    "X3 =  cv.fit_transform(processedSubject).toarray()\n",
    "X = np.concatenate((X1, X2, X3), axis=1) \n",
    "y = df['label']\n",
    "#print(\"Content: Bag of Words Length: \" + str(len(a)))\n",
    "#print(\"From: Bag of Words Length: \" + str(len(b)))\n",
    "#print(\"Subject: Bag of Words Length: \" + str(len(c)))\n",
    "#print(\"Bag of Words Total Length: \" + str(len(X)))"
   ]
  },
  {
   "cell_type": "code",
   "execution_count": 23,
   "id": "60dd5889",
   "metadata": {},
   "outputs": [],
   "source": [
    "# Split Data into Train & Test\n",
    "from sklearn.model_selection import train_test_split\n",
    "\n",
    "X_train, X_test, y_train, y_test = train_test_split(X, y, test_size = 0.2, random_state = 42)"
   ]
  },
  {
   "cell_type": "code",
   "execution_count": 24,
   "id": "e70d9ef2",
   "metadata": {
    "scrolled": true
   },
   "outputs": [],
   "source": [
    "# Algorithm - MultiNomial Naive Bayes\n",
    "from sklearn.naive_bayes import MultinomialNB\n",
    "model = MultinomialNB()\n",
    "model.fit(X_train, y_train)\n",
    "y_pred = model.predict(X_test)"
   ]
  },
  {
   "cell_type": "code",
   "execution_count": 25,
   "id": "7485b35d",
   "metadata": {},
   "outputs": [
    {
     "data": {
      "image/png": "[encoded data removed]",
      "text/plain": [
       "<Figure size 432x288 with 2 Axes>"
      ]
     },
     "metadata": {
      "needs_background": "light"
     },
     "output_type": "display_data"
    },
    {
     "name": "stdout",
     "output_type": "stream",
     "text": [
      "Accuracy: 99.18%\n",
      "Precision: 96.94%\n",
      "Recall: 97.94%\n",
      "F1 score: 97.44%\n"
     ]
    }
   ],
   "source": [
    "# Metrics - MultiNomial Naive Bayes\n",
    "from sklearn.metrics import confusion_matrix, accuracy_score, precision_score, recall_score, f1_score\n",
    "import matplotlib.pyplot as plt\n",
    "import seaborn as sns\n",
    "\n",
    "def getMetrix(y_test, y_pred):\n",
    "    matrix = confusion_matrix(y_test, y_pred)\n",
    "\n",
    "    #matrix_df = pd.DataFrame(matrix, index=[\"Ham\", \"Spam\"], columns=[\"Ham\", \"Spam\"])\n",
    "    #confusion_df = matrix_df.astype('float')/matrix_df.sum(axis=1)\n",
    "    s = sns.heatmap(matrix, annot=True, fmt='.3g', xticklabels=[\"Ham\", \"Spam\"], yticklabels=[\"Ham\", \"Spam\"])\n",
    "    s.set(xlabel='Truth Values', ylabel='Predicted Values')\n",
    "    plt.show()\n",
    "\n",
    "\n",
    "    print(\"Accuracy: {:.2f}%\".format(100 * accuracy_score(y_test, y_pred)))\n",
    "    print(\"Precision: {:.2f}%\".format(100 * precision_score(y_test, y_pred)))\n",
    "    print(\"Recall: {:.2f}%\".format(100 * recall_score(y_test, y_pred)))\n",
    "    print(\"F1 score: {:.2f}%\".format(100 * f1_score(y_test, y_pred)))\n",
    "\n",
    "getMetrix(y_test, y_pred)"
   ]
  },
  {
   "cell_type": "code",
   "execution_count": 17,
   "id": "d27f9010",
   "metadata": {},
   "outputs": [
    {
     "data": {
      "application/vnd.jupyter.widget-view+json": {
       "model_id": "1c206cca7c5b48ad80abf8f82e6c3a1a",
       "version_major": 2,
       "version_minor": 0
      },
      "text/plain": [
       "IntProgress(value=1, max=30002, min=1)"
      ]
     },
     "metadata": {},
     "output_type": "display_data"
    }
   ],
   "source": [
    "# Optimal Bag of Words Size from 1 to 30000\n",
    "\n",
    "\n",
    "\n",
    "def testBagOfWords(start, end, step):\n",
    "    f2 = IntProgress(min=start, max=end) # instantiate the bar\n",
    "    display(f2) # display the bar\n",
    "    result = []\n",
    "    for fi in range(start, end, step):\n",
    "        f2.value = fi\n",
    "        cv = CountVectorizer(max_features = fi) # Number of words to use in \"Bag of Words\"\n",
    "        X1 =  cv.fit_transform(processedContent).toarray()\n",
    "        X2 =  cv.fit_transform(processedFrom).toarray()\n",
    "        X3 =  cv.fit_transform(processedSubject).toarray()\n",
    "        X = np.concatenate((X1, X2, X3), axis=1) \n",
    "        y = df['label']\n",
    "        X_train, X_test, y_train, y_test = train_test_split(X, y, test_size = 0.2, random_state = 42)\n",
    "        model = MultinomialNB()\n",
    "        model.fit(X_train, y_train)\n",
    "        y_pred = model.predict(X_test)\n",
    "        score = f1_score(y_test, y_pred)\n",
    "        score2 = accuracy_score(y_test, y_pred)\n",
    "        result.append([fi, score, score2])\n",
    "    return result\n",
    "\n",
    "bagOfWordsSizeCourseResults = testBagOfWords(1, 30002, 100)"
   ]
  },
  {
   "cell_type": "code",
   "execution_count": 18,
   "id": "2119c7d7",
   "metadata": {},
   "outputs": [
    {
     "data": {
      "image/png": "[encoded data removed]",
      "text/plain": [
       "<Figure size 432x288 with 1 Axes>"
      ]
     },
     "metadata": {
      "needs_background": "light"
     },
     "output_type": "display_data"
    },
    {
     "data": {
      "image/png": "[encoded data removed]",
      "text/plain": [
       "<Figure size 432x288 with 1 Axes>"
      ]
     },
     "metadata": {
      "needs_background": "light"
     },
     "output_type": "display_data"
    }
   ],
   "source": [
    "\n",
    "def plotBagOfWordsResult(results, removefromfront):\n",
    "    resultsX = [i[0] for i in results]\n",
    "    resultsYF1 = [i[1] for i in results]\n",
    "    resultsYAccuracy = [i[2] for i in results]\n",
    "\n",
    "    n = removefromfront\n",
    "\n",
    "    plt.plot(resultsX[n:], resultsYF1[n:], color='r', label='f1 score')\n",
    "    plt.plot(resultsX[n:], resultsYAccuracy[n:], color='g', label='accuracy')\n",
    "\n",
    "    plt.xlabel(\"Bag of Words Size\")\n",
    "    plt.ylabel(\"Metric\")\n",
    "    plt.title(\"F1 & Accuracy\")\n",
    "\n",
    "    plt.legend()\n",
    "    plt.show()  \n",
    "\n",
    "plotBagOfWordsResult(bagOfWordsSizeCourseResults, 0)\n",
    "plotBagOfWordsResult(bagOfWordsSizeCourseResults, 5)"
   ]
  },
  {
   "cell_type": "code",
   "execution_count": 20,
   "id": "cb9d152e",
   "metadata": {},
   "outputs": [
    {
     "data": {
      "application/vnd.jupyter.widget-view+json": {
       "model_id": "9249e3d4d81141f787b0bc42697e100a",
       "version_major": 2,
       "version_minor": 0
      },
      "text/plain": [
       "IntProgress(value=10000, max=15000, min=10000)"
      ]
     },
     "metadata": {},
     "output_type": "display_data"
    },
    {
     "data": {
      "image/png": "[encoded data removed]",
      "text/plain": [
       "<Figure size 432x288 with 1 Axes>"
      ]
     },
     "metadata": {
      "needs_background": "light"
     },
     "output_type": "display_data"
    }
   ],
   "source": [
    "# We can see from above that the most optimal is between 10000 & 15000 words\n",
    "# Let's rerun with smaller steps limted to those values\n",
    "bagOfWordsSizeFineResults = testBagOfWords(10000, 15000, 50)\n",
    "plotBagOfWordsResult(bagOfWordsSizeFineResults, 0)"
   ]
  },
  {
   "cell_type": "code",
   "execution_count": 26,
   "id": "500dba18",
   "metadata": {},
   "outputs": [
    {
     "data": {
      "image/png": "[encoded data removed]",
      "text/plain": [
       "<Figure size 432x288 with 2 Axes>"
      ]
     },
     "metadata": {
      "needs_background": "light"
     },
     "output_type": "display_data"
    },
    {
     "name": "stdout",
     "output_type": "stream",
     "text": [
      "Accuracy: 99.67%\n",
      "Precision: 100.00%\n",
      "Recall: 97.94%\n",
      "F1 score: 98.96%\n"
     ]
    }
   ],
   "source": [
    "# We can see that no benefit from 11,000 to 15,000 - let's choose 11,000 and get our final results\n",
    "cv = CountVectorizer(max_features = 11000) # Number of words to use in \"Bag of Words\"\n",
    "optimal_x1 =  cv.fit_transform(processedContent).toarray()\n",
    "optimal_x2 =  cv.fit_transform(processedFrom).toarray()\n",
    "optimal_x3 =  cv.fit_transform(processedSubject).toarray()\n",
    "optimal_x = np.concatenate((optimal_x1, optimal_x2, optimal_x3), axis=1) \n",
    "optimal_y = df['label']\n",
    "\n",
    "x_optimal_train, x_optimal_test, y_optimal_train, y_optimal_test = train_test_split(optimal_x, optimal_y, test_size = 0.2, random_state = 42)\n",
    "optimal_model = MultinomialNB()\n",
    "optimal_model.fit(x_optimal_train, y_optimal_train)\n",
    "y_optimal_pred = optimal_model.predict(x_optimal_test)\n",
    "getMetrix(y_optimal_test, y_optimal_pred)"
   ]
  },
  {
   "cell_type": "code",
   "execution_count": null,
   "id": "b2f54b96",
   "metadata": {},
   "outputs": [],
   "source": []
  }
 ],
 "metadata": {
  "kernelspec": {
   "display_name": "Python 3 (ipykernel)",
   "language": "python",
   "name": "python3"
  },
  "language_info": {
   "codemirror_mode": {
    "name": "ipython",
    "version": 3
   },
   "file_extension": ".py",
   "mimetype": "text/x-python",
   "name": "python",
   "nbconvert_exporter": "python",
   "pygments_lexer": "ipython3",
   "version": "3.9.7"
  }
 },
 "nbformat": 4,
 "nbformat_minor": 5
}
