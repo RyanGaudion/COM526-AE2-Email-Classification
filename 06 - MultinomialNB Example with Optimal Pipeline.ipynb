{
 "cells": [
  {
   "cell_type": "code",
   "execution_count": 2,
   "id": "b1972ccd",
   "metadata": {},
   "outputs": [],
   "source": [
    "# Imports\n",
    "\n",
    "# Used For Data Frames\n",
    "import pandas as pd \n",
    "\n",
    "# Used to load email files\n",
    "import os \n",
    "\n",
    "# Used for email file formats & extracting email content\n",
    "import email\n",
    "from email import policy\n",
    "from bs4 import BeautifulSoup"
   ]
  },
  {
   "cell_type": "code",
   "execution_count": 3,
   "id": "9cb8e408",
   "metadata": {},
   "outputs": [
    {
     "name": "stdout",
     "output_type": "stream",
     "text": [
      "Size of Spam Data: 501\n",
      "Size of Ham Data: 2551\n"
     ]
    }
   ],
   "source": [
    "# Print size of data\n",
    "print(\"Size of Spam Data:\", len(os.listdir('./Data/archive/spam/')))\n",
    "print(\"Size of Ham Data:\", len(os.listdir('./Data/archive/ham/')))"
   ]
  },
  {
   "cell_type": "code",
   "execution_count": 4,
   "id": "d8207ab7",
   "metadata": {},
   "outputs": [
    {
     "name": "stdout",
     "output_type": "stream",
     "text": [
      "Read Email Content Errors: 3\n",
      "Wrong Email Root Content Type: 0\n",
      "Wrong Email Child Content Type: 94\n"
     ]
    }
   ],
   "source": [
    "# Import Raw Data\n",
    "\n",
    "# Local directory that the data is stored in\n",
    "directory = './Data/archive/'\n",
    "\n",
    "# Email Contents\n",
    "contents = []\n",
    "subject = []\n",
    "labels = []\n",
    "fromSenders = []\n",
    "\n",
    "# Count LookupErrors & Unsupported Content Types\n",
    "errors = 0\n",
    "wrongRootContentTypes = 0\n",
    "wrongChildContentTypes = 0\n",
    "\n",
    "# For Multipart email types, need to recursively get content\n",
    "def payloadToContent(payload):\n",
    "    finalContent = \"\"\n",
    "    # For each sub-email in email\n",
    "    for i in range(len(payload)):\n",
    "        try:\n",
    "            #If String add to finalContent\n",
    "            if(isinstance(payload[i], str)):\n",
    "                finalContent += payload[i]\n",
    "            #If plain text add content to finalContent\n",
    "            elif payload[i].get_content_type() == 'text/plain':\n",
    "                finalContent += payload[i].get_content()\n",
    "            #If html add body to finalContent\n",
    "            elif payload[i].get_content_type() == 'text/html':\n",
    "                finalContent += BeautifulSoup(payload[i].get_content()).body.text\n",
    "            #If multipart - recursively run this method\n",
    "            elif \"multipart\" in payload[i].get_content_type():\n",
    "                finalContent += payloadToContent(payload[i].get_payload())\n",
    "            # Else - unsupported type (such as signature) - ignore \n",
    "            else:\n",
    "                global wrongChildContentTypes \n",
    "                wrongChildContentTypes += 1\n",
    "        except LookupError:\n",
    "            errors += 1\n",
    "            pass\n",
    "    return finalContent\n",
    "\n",
    "# Loop through ham & spam folder\n",
    "for label in ['ham/', 'spam/']:\n",
    "    labelDirectory = os.listdir(directory + label)\n",
    "    # For each file in direectory\n",
    "    for file in labelDirectory:\n",
    "        # Read file (rb) as bytes\n",
    "        with open((directory + label + file), 'rb') as file:\n",
    "            # Parse bytes into email, using default email policy\n",
    "            email_file = email.parser.BytesParser(policy=email.policy.default).parse(file)\n",
    "            try:\n",
    "                #If plain text - add content\n",
    "                if email_file.get_content_type() == 'text/plain':\n",
    "                    contents.append(email_file.get_content())\n",
    "                #If html - parse to html and add the html's body\n",
    "                elif email_file.get_content_type() == 'text/html':\n",
    "                    contents.append(BeautifulSoup(email_file.get_content()).body.text)\n",
    "                #If multipart - get payload and run payloadToContent()\n",
    "                elif email_file.get_content_type() in ['multipart/signed', 'multipart/mixed', 'multipart/report', 'multipart/related', 'multipart/alternative']:\n",
    "                    contents.append(payloadToContent(email_file.get_payload()))\n",
    "                # Else - Unsupported content type\n",
    "                else:\n",
    "                    wrongRootContentTypes += 1\n",
    "                    continue\n",
    "                # Add Subject, Label & From Sender\n",
    "                subject.append(email_file['Subject'] or \"\")\n",
    "                labels.append(label)\n",
    "                fromSenders.append(email_file['From'] or \"\")\n",
    "            except LookupError:\n",
    "                errors +=1\n",
    "                pass\n",
    "            \n",
    "print(\"Read Email Content Errors: \" + str(errors))\n",
    "print(\"Wrong Email Root Content Type: \" + str(wrongRootContentTypes))\n",
    "print(\"Wrong Email Child Content Type: \" + str(wrongChildContentTypes))"
   ]
  },
  {
   "cell_type": "code",
   "execution_count": 5,
   "id": "4e92e67a",
   "metadata": {},
   "outputs": [],
   "source": [
    "# Convert to Dataframe\n",
    "df = pd.DataFrame({'subject': subject, 'content': contents, 'label': labels, 'from': fromSenders})"
   ]
  },
  {
   "cell_type": "code",
   "execution_count": 6,
   "id": "55f327da",
   "metadata": {},
   "outputs": [
    {
     "name": "stderr",
     "output_type": "stream",
     "text": [
      "[nltk_data] Downloading package stopwords to\n",
      "[nltk_data]     C:\\Users\\rgaud\\AppData\\Roaming\\nltk_data...\n",
      "[nltk_data]   Package stopwords is already up-to-date!\n"
     ]
    }
   ],
   "source": [
    "# Encoder \n",
    "from sklearn.preprocessing import LabelEncoder\n",
    "\n",
    "#Vectorizer \n",
    "from sklearn.feature_extraction.text import CountVectorizer\n",
    "\n",
    "# Regex\n",
    "import re\n",
    "\n",
    "# Natural Language Toolkit for Stemmer\n",
    "import nltk\n",
    "from nltk.stem import PorterStemmer\n",
    "from nltk.corpus import stopwords\n",
    "nltk.download('stopwords')\n",
    "\n",
    "# Progress Bar\n",
    "from ipywidgets import IntProgress\n",
    "from IPython.display import display\n",
    "\n",
    "\n",
    "columnArray = ['content', 'from', 'subject']\n",
    "\n",
    "def processDf(df):\n",
    "    # Encode Labels\n",
    "    encoder = LabelEncoder()\n",
    "    df['label'] = encoder.fit_transform(df['label'])\n",
    "    \n",
    "    #To lower every column & remove new line characters\n",
    "    for column in columnArray:\n",
    "        df[column] = df[column].apply(lambda x:x.lower())\n",
    "        df[column] = df[column].apply(lambda x: x.replace('\\n', ' '))\n",
    "        df[column] = df[column].apply(lambda x: x.replace('\\t', ' '))\n",
    "        df[column] = df[column].apply(lambda x: x.replace('\\r', ' '))\n",
    "    \n",
    "    # Word Stemming & Regex to characters only\n",
    "    ps = PorterStemmer()\n",
    "    \n",
    "    combined = []\n",
    "\n",
    "    #Display progress bar\n",
    "    progress = IntProgress(min=0, max=len(df))\n",
    "    display(progress)\n",
    "    \n",
    "    # For each email in list\n",
    "    for i in range(len(df)):\n",
    "        # update progress bar\n",
    "        progress.value = i\n",
    "        \n",
    "        processedRow = []\n",
    "        #For each column in email\n",
    "        for column in columnArray:\n",
    "            # Remove special charactors & numbers - uses Regex\n",
    "            review = re.sub('[^a-zA-Z]', ' ', df[column][i])\n",
    "            review = review.split()\n",
    "            # Get the stem of the word if the word is not in StopWords (a, on, at, to, and ...) \n",
    "            review = [ps.stem(word) for word in review if word not in stopwords.words('english')]\n",
    "            review = ' '.join(review)\n",
    "            processedRow.append(review)    \n",
    "        combined.append(' '.join(processedRow))\n",
    "    return combined\n",
    "\n",
    "# Train a vectoriser to convert list of words into word count vector (with max size of features count)\n",
    "def trainVectorise(processed, featuresCount):\n",
    "    cv = CountVectorizer(max_features = featuresCount)\n",
    "    vector =  cv.fit_transform(processed).toarray()\n",
    "    return vector, cv\n",
    "\n",
    "# Use a pre-trained count vectorizer to vectorise a list of words\n",
    "def vectorise(processed, cv):\n",
    "    return cv.transform(processed).toarray()"
   ]
  },
  {
   "cell_type": "code",
   "execution_count": 7,
   "id": "21371c98",
   "metadata": {},
   "outputs": [
    {
     "data": {
      "application/vnd.jupyter.widget-view+json": {
       "model_id": "5cf21d3c6dee4dad8801aa853f328c81",
       "version_major": 2,
       "version_minor": 0
      },
      "text/plain": [
       "IntProgress(value=0, max=3049)"
      ]
     },
     "metadata": {},
     "output_type": "display_data"
    }
   ],
   "source": [
    "# Process the Data frame\n",
    "processed = processDf(df)\n",
    "\n",
    "# Vectorise the processed results (max word count of 3000)\n",
    "vectorResults = trainVectorise(processed, 3000)\n",
    "\n",
    "# Bag of Words 3000\n",
    "bow3000 = vectorResults[0]\n",
    "vectorModel = vectorResults[1]\n",
    "labels = df['label']"
   ]
  },
  {
   "cell_type": "code",
   "execution_count": 8,
   "id": "c6651aa2",
   "metadata": {},
   "outputs": [],
   "source": [
    "from sklearn.model_selection import train_test_split\n",
    "from sklearn.naive_bayes import MultinomialNB\n",
    "\n",
    "\n",
    "def trainNaiveBayes(bowVector, labels):\n",
    "    # Split to train & test set\n",
    "    x_train, x_test, y_train, y_test = train_test_split(bowVector, labels, test_size = 0.2, random_state = 42)\n",
    "    \n",
    "    # Algorithm - MultiNomial Naive Bayes\n",
    "    model = MultinomialNB()\n",
    "    # Fit to training data\n",
    "    model.fit(x_train, y_train)\n",
    "    #Predict Test Data\n",
    "    y_pred = model.predict(x_test)\n",
    "    # Return actual results, predicted results and the final model\n",
    "    return y_test, y_pred, model\n",
    "\n",
    "# Train Naive Bayes with 3000 feature vector\n",
    "resultNB3000 = trainNaiveBayes(bow3000, labels)"
   ]
  },
  {
   "cell_type": "code",
   "execution_count": 9,
   "id": "7485b35d",
   "metadata": {},
   "outputs": [
    {
     "data": {
      "image/png": "[encoded data removed]",
      "text/plain": [
       "<Figure size 432x288 with 2 Axes>"
      ]
     },
     "metadata": {
      "needs_background": "light"
     },
     "output_type": "display_data"
    },
    {
     "name": "stdout",
     "output_type": "stream",
     "text": [
      "Accuracy: 98.85%\n",
      "Precision: 97.87%\n",
      "Recall: 94.85%\n",
      "F1 score: 96.34%\n"
     ]
    }
   ],
   "source": [
    "from sklearn.metrics import confusion_matrix, accuracy_score, precision_score, recall_score, f1_score\n",
    "import matplotlib.pyplot as plt\n",
    "import seaborn as sns\n",
    "\n",
    "def getMetrics(y_test, y_pred):\n",
    "    # Get confusion metric (how many correct, incorrect)\n",
    "    matrix = confusion_matrix(y_test, y_pred)\n",
    "\n",
    "    #Plot confusion metric to heatmap\n",
    "    s = sns.heatmap(matrix, annot=True, fmt='.3g', xticklabels=[\"Ham\", \"Spam\"], yticklabels=[\"Ham\", \"Spam\"])\n",
    "    s.set(xlabel='Truth Values', ylabel='Predicted Values')\n",
    "    plt.show()\n",
    "\n",
    "    # Print Metrics\n",
    "    print(\"Accuracy: {:.2f}%\".format(100 * accuracy_score(y_test, y_pred)))\n",
    "    print(\"Precision: {:.2f}%\".format(100 * precision_score(y_test, y_pred)))\n",
    "    print(\"Recall: {:.2f}%\".format(100 * recall_score(y_test, y_pred)))\n",
    "    print(\"F1 score: {:.2f}%\".format(100 * f1_score(y_test, y_pred)))\n",
    "\n",
    "getMetrics(resultNB3000[0], resultNB3000[1])"
   ]
  },
  {
   "cell_type": "code",
   "execution_count": 18,
   "id": "d27f9010",
   "metadata": {},
   "outputs": [],
   "source": [
    "# Test trainNaiveBayes for multiple max feature sizes\n",
    "def testBagOfWords(start, end, step):\n",
    "    f2 = IntProgress(min=start, max=end) # instantiate the bar\n",
    "    display(f2) # display the bar\n",
    "    result = []\n",
    "    for fi in range(start, end, step):\n",
    "        f2.value = fi\n",
    "        vectorresults = trainVectorise(processed, fi)\n",
    "        nbResults = trainNaiveBayes(vectorresults[0], labels)\n",
    "        f1score = f1_score(nbResults[0], nbResults[1])\n",
    "        accuracyscore = accuracy_score(nbResults[0], nbResults[1])\n",
    "        result.append([fi, f1score, accuracyscore])\n",
    "    return result\n",
    "\n",
    "#Plot results (accuracy & f1 score) from testBagOfWords\n",
    "def plotBagOfWordsResult(results, removefromfront):\n",
    "    resultsX = [i[0] for i in results]\n",
    "    resultsYF1 = [i[1] for i in results]\n",
    "    resultsYAccuracy = [i[2] for i in results]\n",
    "\n",
    "    n = removefromfront\n",
    "\n",
    "    plt.plot(resultsX[n:], resultsYF1[n:], color='r', label='f1 score')\n",
    "    plt.plot(resultsX[n:], resultsYAccuracy[n:], color='g', label='accuracy')\n",
    "\n",
    "    plt.xlabel(\"Bag of Words Size\")\n",
    "    plt.ylabel(\"Metric\")\n",
    "    plt.title(\"F1 & Accuracy\")\n",
    "\n",
    "    plt.legend()\n",
    "    plt.show() "
   ]
  },
  {
   "cell_type": "code",
   "execution_count": 19,
   "id": "2119c7d7",
   "metadata": {},
   "outputs": [
    {
     "data": {
      "application/vnd.jupyter.widget-view+json": {
       "model_id": "299259c900ef4be68e0456c23dec9f27",
       "version_major": 2,
       "version_minor": 0
      },
      "text/plain": [
       "IntProgress(value=1, max=30002, min=1)"
      ]
     },
     "metadata": {},
     "output_type": "display_data"
    },
    {
     "data": {
      "image/png": "[encoded data removed]",
      "text/plain": [
       "<Figure size 432x288 with 1 Axes>"
      ]
     },
     "metadata": {
      "needs_background": "light"
     },
     "output_type": "display_data"
    },
    {
     "data": {
      "image/png": "[encoded data removed]",
      "text/plain": [
       "<Figure size 432x288 with 1 Axes>"
      ]
     },
     "metadata": {
      "needs_background": "light"
     },
     "output_type": "display_data"
    }
   ],
   "source": [
    "# Test Bag of Word Sizes between 1 & 30002 in increments of 100 \n",
    "bagOfWordsSizeCourseResults = testBagOfWords(1, 30002, 100)\n",
    "\n",
    "# Plot results of test\n",
    "plotBagOfWordsResult(bagOfWordsSizeCourseResults, 0)\n",
    "\n",
    "# Plot again without first 5 elements (to view results better)\n",
    "plotBagOfWordsResult(bagOfWordsSizeCourseResults, 5)"
   ]
  },
  {
   "cell_type": "code",
   "execution_count": 20,
   "id": "cb9d152e",
   "metadata": {},
   "outputs": [
    {
     "data": {
      "application/vnd.jupyter.widget-view+json": {
       "model_id": "a55df6bdd0e44c1182ffb412c1b13626",
       "version_major": 2,
       "version_minor": 0
      },
      "text/plain": [
       "IntProgress(value=15000, max=25000, min=15000)"
      ]
     },
     "metadata": {},
     "output_type": "display_data"
    },
    {
     "data": {
      "image/png": "[encoded data removed]",
      "text/plain": [
       "<Figure size 432x288 with 1 Axes>"
      ]
     },
     "metadata": {
      "needs_background": "light"
     },
     "output_type": "display_data"
    }
   ],
   "source": [
    "# Rerun Bag of Words Tests between 15,000 & 25,000 in a smaller increment of 50\n",
    "bagOfWordsSizeFineResults = testBagOfWords(15000, 25000, 50)\n",
    "# Plot results of test\n",
    "plotBagOfWordsResult(bagOfWordsSizeFineResults, 0)"
   ]
  },
  {
   "cell_type": "code",
   "execution_count": 21,
   "id": "500dba18",
   "metadata": {},
   "outputs": [
    {
     "data": {
      "image/png": "[encoded data removed]",
      "text/plain": [
       "<Figure size 432x288 with 2 Axes>"
      ]
     },
     "metadata": {
      "needs_background": "light"
     },
     "output_type": "display_data"
    },
    {
     "name": "stdout",
     "output_type": "stream",
     "text": [
      "Accuracy: 99.84%\n",
      "Precision: 100.00%\n",
      "Recall: 98.97%\n",
      "F1 score: 99.48%\n"
     ]
    }
   ],
   "source": [
    "# Choose optimal Bag of Words size of 16,000 from graph above\n",
    "\n",
    "# Vectorise data into 16,000 size\n",
    "vectorResults16000 = trainVectorise(processed, 16000)\n",
    "# Get Vector\n",
    "bow16000 = vectorResults16000[0]\n",
    "#Get Vector Model\n",
    "vectorModel16000 = vectorResults16000[1]\n",
    "\n",
    "# Train Naive Bayes with Vector\n",
    "resultNB16000 = trainNaiveBayes(bow16000, labels)\n",
    "# Get Naive Bayes Model\n",
    "model16000 = resultNB16000[2]\n",
    "\n",
    "# Display metrics for new Naive Bayes Model\n",
    "getMetrics(resultNB16000[0], resultNB16000[1])"
   ]
  },
  {
   "cell_type": "code",
   "execution_count": 22,
   "id": "b2f54b96",
   "metadata": {},
   "outputs": [
    {
     "data": {
      "application/vnd.jupyter.widget-view+json": {
       "model_id": "1567aa6ea7614b09a8c3823446c11c1f",
       "version_major": 2,
       "version_minor": 0
      },
      "text/plain": [
       "IntProgress(value=0, max=1)"
      ]
     },
     "metadata": {},
     "output_type": "display_data"
    },
    {
     "name": "stdout",
     "output_type": "stream",
     "text": [
      "Test 1 was predicted to be: Spam\n"
     ]
    },
    {
     "data": {
      "application/vnd.jupyter.widget-view+json": {
       "model_id": "f846960fe5b8461297a8d5b57e6acd49",
       "version_major": 2,
       "version_minor": 0
      },
      "text/plain": [
       "IntProgress(value=0, max=1)"
      ]
     },
     "metadata": {},
     "output_type": "display_data"
    },
    {
     "name": "stdout",
     "output_type": "stream",
     "text": [
      "Test 2 was predicted to be: Ham\n"
     ]
    }
   ],
   "source": [
    "# Use newly trained model to predict for any subject, content & from address\n",
    "def Predict(name, subject, content, fromAddress):\n",
    "    potentialResults = [\"Ham\", \"Spam\"]\n",
    "    #Load test data into Data Frame\n",
    "    manualdf = pd.DataFrame(columns=[\"subject\", \"content\", \"label\", \"from\"], data=[[subject, content , \"\", fromAddress]])\n",
    "    # Process Data Frame\n",
    "    manualprocessed = processDf(manualdf)\n",
    "    # Vectorise using 16,000 size vectoriser previously trained\n",
    "    manualBow = vectorise(manualprocessed, vectorModel16000)\n",
    "    # Make prediction using previously trained model\n",
    "    y_pred = model16000.predict(manualBow)\n",
    "    # Print prediction\n",
    "    print(name + \" was predicted to be: \" + potentialResults[y_pred[0]])\n",
    "\n",
    "\n",
    "# Manually test Spam Email\n",
    "spamSubject = \"Free Iphone\"\n",
    "spamContent = \"You've won a free Iphone, click here to redeem. Or send over your credit card number to pay for postage of your free gift\"\n",
    "spamFrom = \"test@gmail.com\"\n",
    "\n",
    "# Manually test Ham Email\n",
    "hamSubject = \"Meeting\"\n",
    "hamContent = \"Hi George, just a quick email to check you are doing okay and that all went well in your meeting today. Hopefully we can catch up tomorrow afternoon?\"\n",
    "hamFrom = \"ryangaudion@email.com\"\n",
    "\n",
    "# Make predictions\n",
    "Predict(\"Test 1\", spamSubject, spamContent, spamFrom)\n",
    "Predict(\"Test 2\", hamSubject, hamContent, hamFrom)"
   ]
  },
  {
   "cell_type": "code",
   "execution_count": 23,
   "id": "3424dd9a",
   "metadata": {},
   "outputs": [
    {
     "data": {
      "text/plain": [
       "0"
      ]
     },
     "execution_count": 23,
     "metadata": {},
     "output_type": "execute_result"
    }
   ],
   "source": [
    "%notebook -e \"06 - MultinomialNB Example with Optimal Pipeline.ipynb\"\n",
    "os.system('jupyter nbconvert --to html \"06 - MultinomialNB Example with Optimal Pipeline.ipynb\"')"
   ]
  },
  {
   "cell_type": "code",
   "execution_count": null,
   "id": "a0f23b9d",
   "metadata": {},
   "outputs": [],
   "source": []
  }
 ],
 "metadata": {
  "kernelspec": {
   "display_name": "Python 3 (ipykernel)",
   "language": "python",
   "name": "python3"
  },
  "language_info": {
   "codemirror_mode": {
    "name": "ipython",
    "version": 3
   },
   "file_extension": ".py",
   "mimetype": "text/x-python",
   "name": "python",
   "nbconvert_exporter": "python",
   "pygments_lexer": "ipython3",
   "version": "3.9.7"
  }
 },
 "nbformat": 4,
 "nbformat_minor": 5
}
