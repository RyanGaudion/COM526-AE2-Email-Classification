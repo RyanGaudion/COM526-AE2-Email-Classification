{
 "cells": [
  {
   "cell_type": "code",
   "execution_count": 1,
   "id": "b1972ccd",
   "metadata": {},
   "outputs": [],
   "source": [
    "# Imports\n",
    "\n",
    "# Used For Data Frames\n",
    "import pandas as pd \n",
    "\n",
    "# Used to load email files\n",
    "import os \n",
    "\n",
    "# Used for email file formats & extracting email content\n",
    "import email\n",
    "from email import policy\n",
    "from bs4 import BeautifulSoup"
   ]
  },
  {
   "cell_type": "code",
   "execution_count": 2,
   "id": "9cb8e408",
   "metadata": {},
   "outputs": [
    {
     "name": "stdout",
     "output_type": "stream",
     "text": [
      "Size of Spam Data: 501\n",
      "Size of Ham Data: 2551\n"
     ]
    }
   ],
   "source": [
    "# Print size of data\n",
    "print(\"Size of Spam Data:\", len(os.listdir('./Data/archive/spam/')))\n",
    "print(\"Size of Ham Data:\", len(os.listdir('./Data/archive/ham/')))"
   ]
  },
  {
   "cell_type": "code",
   "execution_count": 3,
   "id": "d8207ab7",
   "metadata": {},
   "outputs": [
    {
     "name": "stdout",
     "output_type": "stream",
     "text": [
      "Read Email Content Errors: 3\n",
      "Wrong Email Root Content Type: 0\n",
      "Wrong Email Child Content Type: 94\n"
     ]
    }
   ],
   "source": [
    "# Import Raw Data\n",
    "\n",
    "# Local directory that the data is stored in\n",
    "directory = './Data/archive/'\n",
    "\n",
    "# Email Contents\n",
    "contents = []\n",
    "subject = []\n",
    "labels = []\n",
    "fromSenders = []\n",
    "\n",
    "# Count LookupErrors & Unsupported Content Types\n",
    "errors = 0\n",
    "wrongRootContentTypes = 0\n",
    "wrongChildContentTypes = 0\n",
    "\n",
    "# For Multipart email types, need to recursively get content\n",
    "def payloadToContent(payload):\n",
    "    finalContent = \"\"\n",
    "    # For each sub-email in email\n",
    "    for i in range(len(payload)):\n",
    "        try:\n",
    "            #If String add to finalContent\n",
    "            if(isinstance(payload[i], str)):\n",
    "                finalContent += payload[i]\n",
    "            #If plain text add content to finalContent\n",
    "            elif payload[i].get_content_type() == 'text/plain':\n",
    "                finalContent += payload[i].get_content()\n",
    "            #If html add body to finalContent\n",
    "            elif payload[i].get_content_type() == 'text/html':\n",
    "                finalContent += BeautifulSoup(payload[i].get_content()).body.text\n",
    "            #If multipart - recursively run this method\n",
    "            elif \"multipart\" in payload[i].get_content_type():\n",
    "                finalContent += payloadToContent(payload[i].get_payload())\n",
    "            # Else - unsupported type (such as signature) - ignore \n",
    "            else:\n",
    "                global wrongChildContentTypes \n",
    "                wrongChildContentTypes += 1\n",
    "        except LookupError:\n",
    "            errors += 1\n",
    "            pass\n",
    "    return finalContent\n",
    "\n",
    "# Loop through ham & spam folder\n",
    "for label in ['ham/', 'spam/']:\n",
    "    labelDirectory = os.listdir(directory + label)\n",
    "    # For each file in direectory\n",
    "    for file in labelDirectory:\n",
    "        # Read file (rb) as bytes\n",
    "        with open((directory + label + file), 'rb') as file:\n",
    "            # Parse bytes into email, using default email policy\n",
    "            email_file = email.parser.BytesParser(policy=email.policy.default).parse(file)\n",
    "            try:\n",
    "                #If plain text - add content\n",
    "                if email_file.get_content_type() == 'text/plain':\n",
    "                    contents.append(email_file.get_content())\n",
    "                #If html - parse to html and add the html's body\n",
    "                elif email_file.get_content_type() == 'text/html':\n",
    "                    contents.append(BeautifulSoup(email_file.get_content()).body.text)\n",
    "                #If multipart - get payload and run payloadToContent()\n",
    "                elif email_file.get_content_type() in ['multipart/signed', 'multipart/mixed', 'multipart/report', 'multipart/related', 'multipart/alternative']:\n",
    "                    contents.append(payloadToContent(email_file.get_payload()))\n",
    "                # Else - Unsupported content type\n",
    "                else:\n",
    "                    wrongRootContentTypes += 1\n",
    "                    continue\n",
    "                # Add Subject, Label & From Sender\n",
    "                subject.append(email_file['Subject'] or \"\")\n",
    "                labels.append(label)\n",
    "                fromSenders.append(email_file['From'] or \"\")\n",
    "            except LookupError:\n",
    "                errors +=1\n",
    "                pass\n",
    "            \n",
    "print(\"Read Email Content Errors: \" + str(errors))\n",
    "print(\"Wrong Email Root Content Type: \" + str(wrongRootContentTypes))\n",
    "print(\"Wrong Email Child Content Type: \" + str(wrongChildContentTypes))"
   ]
  },
  {
   "cell_type": "code",
   "execution_count": 4,
   "id": "4e92e67a",
   "metadata": {},
   "outputs": [
    {
     "data": {
      "text/html": [
       "<div>\n",
       "<style scoped>\n",
       "    .dataframe tbody tr th:only-of-type {\n",
       "        vertical-align: middle;\n",
       "    }\n",
       "\n",
       "    .dataframe tbody tr th {\n",
       "        vertical-align: top;\n",
       "    }\n",
       "\n",
       "    .dataframe thead th {\n",
       "        text-align: right;\n",
       "    }\n",
       "</style>\n",
       "<table border=\"1\" class=\"dataframe\">\n",
       "  <thead>\n",
       "    <tr style=\"text-align: right;\">\n",
       "      <th></th>\n",
       "      <th>subject</th>\n",
       "      <th>content</th>\n",
       "      <th>label</th>\n",
       "      <th>from</th>\n",
       "    </tr>\n",
       "  </thead>\n",
       "  <tbody>\n",
       "    <tr>\n",
       "      <th>0</th>\n",
       "      <td>Re: New Sequences Window</td>\n",
       "      <td>Date:        Wed, 21 Aug 2002 10:54:46 -05...</td>\n",
       "      <td>ham/</td>\n",
       "      <td>Robert Elz &lt;kre@munnari.OZ.AU&gt;</td>\n",
       "    </tr>\n",
       "    <tr>\n",
       "      <th>1</th>\n",
       "      <td>[zzzzteana] RE: Alexander</td>\n",
       "      <td>Martin A posted:\\nTassos Papadopoulos, the Gre...</td>\n",
       "      <td>ham/</td>\n",
       "      <td>Steve Burt &lt;Steve_Burt@cursor-system.com&gt;</td>\n",
       "    </tr>\n",
       "    <tr>\n",
       "      <th>2</th>\n",
       "      <td>[zzzzteana] Moscow bomber</td>\n",
       "      <td>Man Threatens Explosion In Moscow \\n\\nThursday...</td>\n",
       "      <td>ham/</td>\n",
       "      <td>Tim Chapman &lt;timc@2ubh.com&gt;</td>\n",
       "    </tr>\n",
       "    <tr>\n",
       "      <th>3</th>\n",
       "      <td>[IRR] Klez: The Virus That  Won't Die</td>\n",
       "      <td>Klez: The Virus That Won't Die\\n \\nAlready the...</td>\n",
       "      <td>ham/</td>\n",
       "      <td>Monty Solomon &lt;monty@roscom.com&gt;</td>\n",
       "    </tr>\n",
       "    <tr>\n",
       "      <th>4</th>\n",
       "      <td>Re: Insert signature</td>\n",
       "      <td>On Wed Aug 21 2002 at 15:46, Ulises Ponce wrot...</td>\n",
       "      <td>ham/</td>\n",
       "      <td>Tony Nugent &lt;tony@linuxworks.com.au&gt;</td>\n",
       "    </tr>\n",
       "  </tbody>\n",
       "</table>\n",
       "</div>"
      ],
      "text/plain": [
       "                                 subject  \\\n",
       "0               Re: New Sequences Window   \n",
       "1              [zzzzteana] RE: Alexander   \n",
       "2              [zzzzteana] Moscow bomber   \n",
       "3  [IRR] Klez: The Virus That  Won't Die   \n",
       "4                   Re: Insert signature   \n",
       "\n",
       "                                             content label  \\\n",
       "0      Date:        Wed, 21 Aug 2002 10:54:46 -05...  ham/   \n",
       "1  Martin A posted:\\nTassos Papadopoulos, the Gre...  ham/   \n",
       "2  Man Threatens Explosion In Moscow \\n\\nThursday...  ham/   \n",
       "3  Klez: The Virus That Won't Die\\n \\nAlready the...  ham/   \n",
       "4  On Wed Aug 21 2002 at 15:46, Ulises Ponce wrot...  ham/   \n",
       "\n",
       "                                        from  \n",
       "0             Robert Elz <kre@munnari.OZ.AU>  \n",
       "1  Steve Burt <Steve_Burt@cursor-system.com>  \n",
       "2                Tim Chapman <timc@2ubh.com>  \n",
       "3           Monty Solomon <monty@roscom.com>  \n",
       "4       Tony Nugent <tony@linuxworks.com.au>  "
      ]
     },
     "execution_count": 4,
     "metadata": {},
     "output_type": "execute_result"
    }
   ],
   "source": [
    "# Convert to Dataframe\n",
    "df = pd.DataFrame({'subject': subject, 'content': contents, 'label': labels, 'from': fromSenders})\n",
    "df.head()"
   ]
  },
  {
   "cell_type": "code",
   "execution_count": 5,
   "id": "55f327da",
   "metadata": {},
   "outputs": [
    {
     "name": "stderr",
     "output_type": "stream",
     "text": [
      "[nltk_data] Downloading package stopwords to\n",
      "[nltk_data]     C:\\Users\\rgaud\\AppData\\Roaming\\nltk_data...\n",
      "[nltk_data]   Package stopwords is already up-to-date!\n"
     ]
    }
   ],
   "source": [
    "# Encoder \n",
    "from sklearn.preprocessing import LabelEncoder\n",
    "\n",
    "#Vectorizer \n",
    "from sklearn.feature_extraction.text import CountVectorizer\n",
    "\n",
    "# Regex\n",
    "import re\n",
    "\n",
    "# Natural Language Toolkit for Stemmer\n",
    "import nltk\n",
    "from nltk.stem import PorterStemmer\n",
    "from nltk.corpus import stopwords\n",
    "nltk.download('stopwords')\n",
    "\n",
    "# Progress Bar\n",
    "from ipywidgets import IntProgress\n",
    "from IPython.display import display\n",
    "\n",
    "# Arrays\n",
    "import numpy as np\n",
    "\n",
    "\n",
    "columnArray = ['content', 'from', 'subject']\n",
    "\n",
    "def processDf(df):\n",
    "    # Encode Labels\n",
    "    encoder = LabelEncoder()\n",
    "    df['label'] = encoder.fit_transform(df['label'])\n",
    "    \n",
    "    #To lower every column & remove new line characters\n",
    "    for column in columnArray:\n",
    "        df[column] = df[column].apply(lambda x:x.lower())\n",
    "        df[column] = df[column].apply(lambda x: x.replace('\\n', ' '))\n",
    "        df[column] = df[column].apply(lambda x: x.replace('\\t', ' '))\n",
    "        df[column] = df[column].apply(lambda x: x.replace('\\r', ' '))\n",
    "    \n",
    "    # Word Stemming & Regex to characters only\n",
    "    ps = PorterStemmer()\n",
    "    \n",
    "    combined = []\n",
    "\n",
    "    #Display progress bar\n",
    "    progress = IntProgress(min=0, max=len(df))\n",
    "    display(progress)\n",
    "    \n",
    "    # For each email in list\n",
    "    for i in range(len(df)):\n",
    "        # update progress bar\n",
    "        progress.value = i\n",
    "        \n",
    "        processedRows = []\n",
    "        #For each column in email\n",
    "        for column in columnArray:\n",
    "            # Remove special charactors & numbers - uses Regex\n",
    "            review = re.sub('[^a-zA-Z]', ' ', df[column][i])\n",
    "            review = review.split()\n",
    "            # Get the stem of the word if the word is not in StopWords (a, on, at, to, and ...) \n",
    "            review = [ps.stem(word) for word in review if word not in stopwords.words('english')]\n",
    "            review = ' '.join(review)\n",
    "            processedRows.append(review)    \n",
    "        combined.append(processedRows)\n",
    "    return combined\n",
    "\n",
    "# Train a vectoriser to convert list of words into word count vector (with max size of features count)\n",
    "def trainVectorise(processed, featuresCount):\n",
    "    array = np.array(processed)\n",
    "    \n",
    "    contentCv = CountVectorizer(max_features = featuresCount)\n",
    "    contentVector =  contentCv.fit_transform(array[:,0]).toarray()\n",
    "    \n",
    "    fromCv = CountVectorizer(max_features = featuresCount)\n",
    "    fromVector =  fromCv.fit_transform(array[:,1]).toarray()\n",
    "    \n",
    "    subjectCv = CountVectorizer(max_features = featuresCount)\n",
    "    subjectVector =  subjectCv.fit_transform(array[:,2]).toarray()\n",
    "    \n",
    "    vector = np.concatenate((contentVector, fromVector,subjectVector), axis=1)\n",
    "    \n",
    "    return vector, contentCv, fromCv, subjectCv\n",
    "\n",
    "# Use a pre-trained count vectorizer to vectorise a list of words\n",
    "def vectorise(processed, contentCv, fromCv, subjectCv):\n",
    "    array = np.array(processed)\n",
    "    contentVector =  contentCv.transform(array[:,0]).toarray()\n",
    "    fromVector =  fromCv.transform(array[:,1]).toarray()\n",
    "    subjectVector =  subjectCv.transform(array[:,2]).toarray()\n",
    "    vector = np.concatenate((contentVector, fromVector,subjectVector), axis=1)\n",
    "    return vector"
   ]
  },
  {
   "cell_type": "code",
   "execution_count": 6,
   "id": "0c88708f",
   "metadata": {},
   "outputs": [
    {
     "data": {
      "application/vnd.jupyter.widget-view+json": {
       "model_id": "928b2f3cf51d42009237e9c185550cb9",
       "version_major": 2,
       "version_minor": 0
      },
      "text/plain": [
       "IntProgress(value=0, max=3049)"
      ]
     },
     "metadata": {},
     "output_type": "display_data"
    }
   ],
   "source": [
    "# Process the Data frame\n",
    "processed = processDf(df)"
   ]
  },
  {
   "cell_type": "code",
   "execution_count": 7,
   "id": "30c41f41",
   "metadata": {},
   "outputs": [
    {
     "data": {
      "text/plain": [
       "['date wed aug chri garrigu cwg date fa deepeddi com messag id tmda deepeddi vircio com reproduc error repeat like everi time without fail debug log pick happen pick exec pick inbox list lbrace lbrace subject ftp rbrace rbrace sequenc mercuri exec pick inbox list lbrace lbrace subject ftp rbrace rbrace sequenc mercuri ftoc pickmsg hit mark hit tkerror syntax error express int note run pick command hand delta pick inbox list lbrace lbrace subject ftp rbrace rbrace sequenc mercuri hit hit come obvious version nmh use delta pick version pick nmh compil fuchsia cs mu oz au sun mar ict relev part mh profil delta mhparam pick seq sel list sinc pick command work sequenc actual one explicit command line search popup one come mh profil get creat kre ps still use version code form day ago abl reach cv repositori today local rout issu think exmh worker mail list exmh worker redhat com http listman redhat com mailman listinfo exmh worker',\n",
       " 'robert elz kre munnari oz au',\n",
       " 'new sequenc window']"
      ]
     },
     "execution_count": 7,
     "metadata": {},
     "output_type": "execute_result"
    }
   ],
   "source": [
    "processed[0]"
   ]
  },
  {
   "cell_type": "code",
   "execution_count": 8,
   "id": "618ed755",
   "metadata": {},
   "outputs": [],
   "source": [
    "# Vectorise the processed results (max word count of 3000)\n",
    "vectorResults = trainVectorise(processed, 3000)\n",
    "\n",
    "# Bag of Words 3000\n",
    "bow3000 = vectorResults[0]\n",
    "vectorContentModel = vectorResults[1]\n",
    "vectorFromModel = vectorResults[2]\n",
    "vectorSubjectModel = vectorResults[3]\n",
    "labels = df['label']"
   ]
  },
  {
   "cell_type": "code",
   "execution_count": 9,
   "id": "c6651aa2",
   "metadata": {},
   "outputs": [],
   "source": [
    "from sklearn.model_selection import train_test_split\n",
    "from sklearn.naive_bayes import MultinomialNB\n",
    "\n",
    "\n",
    "def trainNaiveBayes(bowVector, labels):\n",
    "    # Split to train & test set\n",
    "    x_train, x_test, y_train, y_test = train_test_split(bowVector, labels, test_size = 0.2, random_state = 42)\n",
    "    \n",
    "    # Algorithm - MultiNomial Naive Bayes\n",
    "    model = MultinomialNB()\n",
    "    # Fit to training data\n",
    "    model.fit(x_train, y_train)\n",
    "    #Predict Test Data\n",
    "    y_pred = model.predict(x_test)\n",
    "    # Return actual results, predicted results and the final model\n",
    "    return y_test, y_pred, model\n",
    "\n",
    "# Train Naive Bayes with 3000 feature vector\n",
    "resultNB3000 = trainNaiveBayes(bow3000, labels)"
   ]
  },
  {
   "cell_type": "code",
   "execution_count": 10,
   "id": "7485b35d",
   "metadata": {},
   "outputs": [
    {
     "data": {
      "image/png": "[encoded data removed]",
      "text/plain": [
       "<Figure size 432x288 with 2 Axes>"
      ]
     },
     "metadata": {
      "needs_background": "light"
     },
     "output_type": "display_data"
    },
    {
     "name": "stdout",
     "output_type": "stream",
     "text": [
      "Accuracy: 99.18%\n",
      "Precision: 96.94%\n",
      "Recall: 97.94%\n",
      "F1 score: 97.44%\n"
     ]
    }
   ],
   "source": [
    "from sklearn.metrics import confusion_matrix, accuracy_score, precision_score, recall_score, f1_score\n",
    "import matplotlib.pyplot as plt\n",
    "import seaborn as sns\n",
    "\n",
    "def getMetrics(y_test, y_pred):\n",
    "    # Get confusion metric (how many correct, incorrect)\n",
    "    matrix = confusion_matrix(y_test, y_pred)\n",
    "\n",
    "    #Plot confusion metric to heatmap\n",
    "    s = sns.heatmap(matrix, annot=True, fmt='.3g', xticklabels=[\"Ham\", \"Spam\"], yticklabels=[\"Ham\", \"Spam\"])\n",
    "    s.set(xlabel='Truth Values', ylabel='Predicted Values')\n",
    "    plt.show()\n",
    "\n",
    "    # Print Metrics\n",
    "    print(\"Accuracy: {:.2f}%\".format(100 * accuracy_score(y_test, y_pred)))\n",
    "    print(\"Precision: {:.2f}%\".format(100 * precision_score(y_test, y_pred)))\n",
    "    print(\"Recall: {:.2f}%\".format(100 * recall_score(y_test, y_pred)))\n",
    "    print(\"F1 score: {:.2f}%\".format(100 * f1_score(y_test, y_pred)))\n",
    "\n",
    "getMetrics(resultNB3000[0], resultNB3000[1])"
   ]
  },
  {
   "cell_type": "code",
   "execution_count": 11,
   "id": "d27f9010",
   "metadata": {},
   "outputs": [],
   "source": [
    "# Test trainNaiveBayes for multiple max feature sizes\n",
    "def testBagOfWords(start, end, step):\n",
    "    f2 = IntProgress(min=start, max=end) # instantiate the bar\n",
    "    display(f2) # display the bar\n",
    "    result = []\n",
    "    for fi in range(start, end, step):\n",
    "        f2.value = fi\n",
    "        vectorresults = trainVectorise(processed, fi)\n",
    "        nbResults = trainNaiveBayes(vectorresults[0], labels)\n",
    "        f1score = f1_score(nbResults[0], nbResults[1])\n",
    "        accuracyscore = accuracy_score(nbResults[0], nbResults[1])\n",
    "        result.append([fi, f1score, accuracyscore])\n",
    "    return result\n",
    "\n",
    "#Plot results (accuracy & f1 score) from testBagOfWords\n",
    "def plotBagOfWordsResult(results, removefromfront):\n",
    "    resultsX = [i[0] for i in results]\n",
    "    resultsYF1 = [i[1] for i in results]\n",
    "    resultsYAccuracy = [i[2] for i in results]\n",
    "\n",
    "    n = removefromfront\n",
    "\n",
    "    plt.plot(resultsX[n:], resultsYF1[n:], color='r', label='f1 score')\n",
    "    plt.plot(resultsX[n:], resultsYAccuracy[n:], color='g', label='accuracy')\n",
    "\n",
    "    plt.xlabel(\"Bag of Words Size\")\n",
    "    plt.ylabel(\"Metric\")\n",
    "    plt.title(\"F1 & Accuracy\")\n",
    "\n",
    "    plt.legend()\n",
    "    plt.show() "
   ]
  },
  {
   "cell_type": "code",
   "execution_count": 12,
   "id": "2119c7d7",
   "metadata": {},
   "outputs": [
    {
     "data": {
      "application/vnd.jupyter.widget-view+json": {
       "model_id": "287f88bf42b74725ac7cf5df4d6e28a7",
       "version_major": 2,
       "version_minor": 0
      },
      "text/plain": [
       "IntProgress(value=1, max=30002, min=1)"
      ]
     },
     "metadata": {},
     "output_type": "display_data"
    },
    {
     "data": {
      "image/png": "[encoded data removed]",
      "text/plain": [
       "<Figure size 432x288 with 1 Axes>"
      ]
     },
     "metadata": {
      "needs_background": "light"
     },
     "output_type": "display_data"
    },
    {
     "data": {
      "image/png": "[encoded data removed]",
      "text/plain": [
       "<Figure size 432x288 with 1 Axes>"
      ]
     },
     "metadata": {
      "needs_background": "light"
     },
     "output_type": "display_data"
    }
   ],
   "source": [
    "# Test Bag of Word Sizes between 1 & 30002 in increments of 100 \n",
    "bagOfWordsSizeCourseResults = testBagOfWords(1, 30002, 500)\n",
    "\n",
    "# Plot results of test\n",
    "plotBagOfWordsResult(bagOfWordsSizeCourseResults, 0)\n",
    "\n",
    "# Plot again without first 5 elements (to view results better)\n",
    "plotBagOfWordsResult(bagOfWordsSizeCourseResults, 5)"
   ]
  },
  {
   "cell_type": "code",
   "execution_count": 13,
   "id": "cb9d152e",
   "metadata": {},
   "outputs": [
    {
     "data": {
      "application/vnd.jupyter.widget-view+json": {
       "model_id": "7a7e9ab11b7c4f84a0a5233c197d9e0a",
       "version_major": 2,
       "version_minor": 0
      },
      "text/plain": [
       "IntProgress(value=10000, max=12000, min=10000)"
      ]
     },
     "metadata": {},
     "output_type": "display_data"
    },
    {
     "data": {
      "image/png": "[encoded data removed]",
      "text/plain": [
       "<Figure size 432x288 with 1 Axes>"
      ]
     },
     "metadata": {
      "needs_background": "light"
     },
     "output_type": "display_data"
    }
   ],
   "source": [
    "# Rerun Bag of Words Tests between 10,000 & 12,000 in a smaller increment of 50\n",
    "bagOfWordsSizeFineResults = testBagOfWords(10000, 12000, 50)\n",
    "# Plot results of test\n",
    "plotBagOfWordsResult(bagOfWordsSizeFineResults, 0)"
   ]
  },
  {
   "cell_type": "code",
   "execution_count": 14,
   "id": "500dba18",
   "metadata": {},
   "outputs": [
    {
     "data": {
      "image/png": "[encoded data removed]",
      "text/plain": [
       "<Figure size 432x288 with 2 Axes>"
      ]
     },
     "metadata": {
      "needs_background": "light"
     },
     "output_type": "display_data"
    },
    {
     "name": "stdout",
     "output_type": "stream",
     "text": [
      "Accuracy: 99.67%\n",
      "Precision: 100.00%\n",
      "Recall: 97.94%\n",
      "F1 score: 98.96%\n"
     ]
    }
   ],
   "source": [
    "# Choose optimal Bag of Words size of 10,750 from graph above\n",
    "\n",
    "# Vectorise data into 16,000 size\n",
    "vectorResults10750 = trainVectorise(processed, 10750)\n",
    "# Get Vector\n",
    "bow10750 = vectorResults10750[0]\n",
    "#Get Vector Model\n",
    "vectorContentModel10750 = vectorResults10750[1]\n",
    "vectorFromModel10750 = vectorResults10750[2]\n",
    "vectorSubjectModel10750 = vectorResults10750[3]\n",
    "\n",
    "# Train Naive Bayes with Vector\n",
    "resultNB10750 = trainNaiveBayes(bow10750, labels)\n",
    "# Get Naive Bayes Model\n",
    "model10750 = resultNB10750[2]\n",
    "\n",
    "# Display metrics for new Naive Bayes Model\n",
    "getMetrics(resultNB10750[0], resultNB10750[1])"
   ]
  },
  {
   "cell_type": "code",
   "execution_count": 15,
   "id": "b2f54b96",
   "metadata": {},
   "outputs": [
    {
     "data": {
      "application/vnd.jupyter.widget-view+json": {
       "model_id": "fd29f10af54b4c21bdf088c49768dc79",
       "version_major": 2,
       "version_minor": 0
      },
      "text/plain": [
       "IntProgress(value=0, max=1)"
      ]
     },
     "metadata": {},
     "output_type": "display_data"
    },
    {
     "name": "stdout",
     "output_type": "stream",
     "text": [
      "Test 1 was predicted to be: Spam\n"
     ]
    },
    {
     "data": {
      "application/vnd.jupyter.widget-view+json": {
       "model_id": "9f4901c41b634fe3ba74eb9dfc583b01",
       "version_major": 2,
       "version_minor": 0
      },
      "text/plain": [
       "IntProgress(value=0, max=1)"
      ]
     },
     "metadata": {},
     "output_type": "display_data"
    },
    {
     "name": "stdout",
     "output_type": "stream",
     "text": [
      "Test 2 was predicted to be: Ham\n"
     ]
    }
   ],
   "source": [
    "# Use newly trained model to predict for any subject, content & from address\n",
    "def Predict(name, subject, content, fromAddress):\n",
    "    potentialResults = [\"Ham\", \"Spam\"]\n",
    "    #Load test data into Data Frame\n",
    "    manualdf = pd.DataFrame(columns=[ \"content\", \"from\", \"subject\", \"label\"], data=[[content, fromAddress, subject, \"\" ]])\n",
    "    # Process Data Frame\n",
    "    manualprocessed = processDf(manualdf)\n",
    "    # Vectorise using 10750 size vectoriser previously trained\n",
    "    manualBow = vectorise(manualprocessed, vectorContentModel10750, vectorFromModel10750, vectorSubjectModel10750)\n",
    "    # Make prediction using previously trained model\n",
    "    y_pred = model10750.predict(manualBow)\n",
    "    # Print prediction\n",
    "    print(name + \" was predicted to be: \" + potentialResults[y_pred[0]])\n",
    "\n",
    "\n",
    "# Manually test Spam Email\n",
    "spamSubject = \"Free Iphone\"\n",
    "spamContent = \"You've won a free Iphone, click here to redeem. Or send over your credit card number to pay for postage of your free gift\"\n",
    "spamFrom = \"test@gmail.com\"\n",
    "\n",
    "# Manually test Ham Email\n",
    "hamSubject = \"Meeting\"\n",
    "hamContent = \"Hi George, just a quick email to check you are doing okay and that all went well in your meeting today. Hopefully we can catch up tomorrow afternoon?\"\n",
    "hamFrom = \"ryangaudion@email.com\"\n",
    "\n",
    "# Make predictions\n",
    "Predict(\"Test 1\", spamSubject, spamContent, spamFrom)\n",
    "Predict(\"Test 2\", hamSubject, hamContent, hamFrom)"
   ]
  },
  {
   "cell_type": "code",
   "execution_count": 16,
   "id": "1dac437f",
   "metadata": {},
   "outputs": [
    {
     "data": {
      "text/plain": [
       "0"
      ]
     },
     "execution_count": 16,
     "metadata": {},
     "output_type": "execute_result"
    }
   ],
   "source": [
    "os.system('jupyter nbconvert --to html \"06 - MultinomialNB Example with Optimal Pipeline.ipynb\"')"
   ]
  },
  {
   "cell_type": "code",
   "execution_count": null,
   "id": "69f100ce",
   "metadata": {},
   "outputs": [],
   "source": []
  },
  {
   "cell_type": "code",
   "execution_count": null,
   "id": "c0c3bde4",
   "metadata": {},
   "outputs": [],
   "source": []
  },
  {
   "cell_type": "code",
   "execution_count": null,
   "id": "f56a3592",
   "metadata": {},
   "outputs": [],
   "source": []
  },
  {
   "cell_type": "code",
   "execution_count": null,
   "id": "4b5c91ec",
   "metadata": {},
   "outputs": [],
   "source": []
  },
  {
   "cell_type": "code",
   "execution_count": null,
   "id": "b4e7ea11",
   "metadata": {},
   "outputs": [],
   "source": []
  },
  {
   "cell_type": "code",
   "execution_count": null,
   "id": "598a15f2",
   "metadata": {},
   "outputs": [],
   "source": []
  }
 ],
 "metadata": {
  "kernelspec": {
   "display_name": "Python 3 (ipykernel)",
   "language": "python",
   "name": "python3"
  },
  "language_info": {
   "codemirror_mode": {
    "name": "ipython",
    "version": 3
   },
   "file_extension": ".py",
   "mimetype": "text/x-python",
   "name": "python",
   "nbconvert_exporter": "python",
   "pygments_lexer": "ipython3",
   "version": "3.9.7"
  }
 },
 "nbformat": 4,
 "nbformat_minor": 5
}
