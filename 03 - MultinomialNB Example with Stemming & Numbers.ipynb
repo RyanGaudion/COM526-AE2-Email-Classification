{
 "cells": [
  {
   "cell_type": "code",
   "execution_count": 1,
   "id": "b1972ccd",
   "metadata": {},
   "outputs": [],
   "source": [
    "# Imports\n",
    "import numpy as np\n",
    "import pandas as pd\n",
    "import os"
   ]
  },
  {
   "cell_type": "code",
   "execution_count": 2,
   "id": "9cb8e408",
   "metadata": {},
   "outputs": [
    {
     "name": "stdout",
     "output_type": "stream",
     "text": [
      "Size of Spam Data: 501\n",
      "Size of Ham Data: 2551\n"
     ]
    }
   ],
   "source": [
    "# Print size of data\n",
    "print(\"Size of Spam Data:\", len(os.listdir('./Data/archive/spam/')))\n",
    "print(\"Size of Ham Data:\", len(os.listdir('./Data/archive/ham/')))"
   ]
  },
  {
   "cell_type": "code",
   "execution_count": 3,
   "id": "d8207ab7",
   "metadata": {},
   "outputs": [],
   "source": [
    "# Import Raw Data\n",
    "directory = './Data/archive/'\n",
    "emails = []\n",
    "labels = []\n",
    "for label in ['ham/', 'spam/']:\n",
    "    labelDirectory = os.listdir(directory + label)\n",
    "    for file in labelDirectory:\n",
    "        f = open((directory + label + file), 'r', encoding = 'latin-1')\n",
    "        \n",
    "        content = f.read()\n",
    "        emails.append(content)\n",
    "        labels.append(label)"
   ]
  },
  {
   "cell_type": "code",
   "execution_count": 4,
   "id": "4e92e67a",
   "metadata": {},
   "outputs": [],
   "source": [
    "# Convert to Dataframe\n",
    "df = pd.DataFrame({'emails' : emails, 'labels': labels})"
   ]
  },
  {
   "cell_type": "code",
   "execution_count": 5,
   "id": "930fbc0e",
   "metadata": {},
   "outputs": [
    {
     "data": {
      "text/plain": [
       "'From exmh-workers-admin@redhat.com  Thu Aug 22 12:36:23 2002\\nReturn-Path: <exmh-workers-admin@example.com>\\nDelivered-To: zzzz@localhost.netnoteinc.com\\nReceived: from localhost (localhost [127.0.0.1])\\n\\tby phobos.labs.netnoteinc.com (Postfix) with ESMTP id D03E543C36\\n\\tfor <zzzz@localhost>; Thu, 22 Aug 2002 07:36:16 -0400 (EDT)\\nReceived: from phobos [127.0.0.1]\\n\\tby localhost with IMAP (fetchmail-5.9.0)\\n\\tfor zzzz@localhost (single-drop); Thu, 22 Aug 2002 12:36:16 +0100 (IST)\\nReceived: from listman.example.com (listman.example.com [66.187.233.211]) by\\n    dogma.slashnull.org (8.11.6/8.11.6) with ESMTP id g7MBYrZ04811 for\\n    <zzzz-exmh@example.com>; Thu, 22 Aug 2002 12:34:53 +0100\\nReceived: from listman.example.com (localhost.localdomain [127.0.0.1]) by\\n    listman.redhat.com (Postfix) with ESMTP id 8386540858; Thu, 22 Aug 2002\\n    07:35:02 -0400 (EDT)\\nDelivered-To: exmh-workers@listman.example.com\\nReceived: from int-mx1.corp.example.com (int-mx1.corp.example.com\\n    [172.16.52.254]) by listman.redhat.com (Postfix) with ESMTP id 10CF8406D7\\n    for <exmh-workers@listman.redhat.com>; Thu, 22 Aug 2002 07:34:10 -0400\\n    (EDT)\\nReceived: (from mail@localhost) by int-mx1.corp.example.com (8.11.6/8.11.6)\\n    id g7MBY7g11259 for exmh-workers@listman.redhat.com; Thu, 22 Aug 2002\\n    07:34:07 -0400\\nReceived: from mx1.example.com (mx1.example.com [172.16.48.31]) by\\n    int-mx1.corp.redhat.com (8.11.6/8.11.6) with SMTP id g7MBY7Y11255 for\\n    <exmh-workers@redhat.com>; Thu, 22 Aug 2002 07:34:07 -0400\\nReceived: from ratree.psu.ac.th ([202.28.97.6]) by mx1.example.com\\n    (8.11.6/8.11.6) with SMTP id g7MBIhl25223 for <exmh-workers@redhat.com>;\\n    Thu, 22 Aug 2002 07:18:55 -0400\\nReceived: from delta.cs.mu.OZ.AU (delta.coe.psu.ac.th [172.30.0.98]) by\\n    ratree.psu.ac.th (8.11.6/8.11.6) with ESMTP id g7MBWel29762;\\n    Thu, 22 Aug 2002 18:32:40 +0700 (ICT)\\nReceived: from munnari.OZ.AU (localhost [127.0.0.1]) by delta.cs.mu.OZ.AU\\n    (8.11.6/8.11.6) with ESMTP id g7MBQPW13260; Thu, 22 Aug 2002 18:26:25\\n    +0700 (ICT)\\nFrom: Robert Elz <kre@munnari.OZ.AU>\\nTo: Chris Garrigues <cwg-dated-1030377287.06fa6d@DeepEddy.Com>\\nCc: exmh-workers@example.com\\nSubject: Re: New Sequences Window\\nIn-Reply-To: <1029945287.4797.TMDA@deepeddy.vircio.com>\\nReferences: <1029945287.4797.TMDA@deepeddy.vircio.com>\\n    <1029882468.3116.TMDA@deepeddy.vircio.com> <9627.1029933001@munnari.OZ.AU>\\n    <1029943066.26919.TMDA@deepeddy.vircio.com>\\n    <1029944441.398.TMDA@deepeddy.vircio.com>\\nMIME-Version: 1.0\\nContent-Type: text/plain; charset=us-ascii\\nMessage-Id: <13258.1030015585@munnari.OZ.AU>\\nX-Loop: exmh-workers@example.com\\nSender: exmh-workers-admin@example.com\\nErrors-To: exmh-workers-admin@example.com\\nX-Beenthere: exmh-workers@example.com\\nX-Mailman-Version: 2.0.1\\nPrecedence: bulk\\nList-Help: <mailto:exmh-workers-request@example.com?subject=help>\\nList-Post: <mailto:exmh-workers@example.com>\\nList-Subscribe: <https://listman.example.com/mailman/listinfo/exmh-workers>,\\n    <mailto:exmh-workers-request@redhat.com?subject=subscribe>\\nList-Id: Discussion list for EXMH developers <exmh-workers.example.com>\\nList-Unsubscribe: <https://listman.example.com/mailman/listinfo/exmh-workers>,\\n    <mailto:exmh-workers-request@redhat.com?subject=unsubscribe>\\nList-Archive: <https://listman.example.com/mailman/private/exmh-workers/>\\nDate: Thu, 22 Aug 2002 18:26:25 +0700\\n\\n    Date:        Wed, 21 Aug 2002 10:54:46 -0500\\n    From:        Chris Garrigues <cwg-dated-1030377287.06fa6d@DeepEddy.Com>\\n    Message-ID:  <1029945287.4797.TMDA@deepeddy.vircio.com>\\n\\n\\n  | I can\\'t reproduce this error.\\n\\nFor me it is very repeatable... (like every time, without fail).\\n\\nThis is the debug log of the pick happening ...\\n\\n18:19:03 Pick_It {exec pick +inbox -list -lbrace -lbrace -subject ftp -rbrace -rbrace} {4852-4852 -sequence mercury}\\n18:19:03 exec pick +inbox -list -lbrace -lbrace -subject ftp -rbrace -rbrace 4852-4852 -sequence mercury\\n18:19:04 Ftoc_PickMsgs {{1 hit}}\\n18:19:04 Marking 1 hits\\n18:19:04 tkerror: syntax error in expression \"int ...\\n\\nNote, if I run the pick command by hand ...\\n\\ndelta$ pick +inbox -list -lbrace -lbrace -subject ftp -rbrace -rbrace  4852-4852 -sequence mercury\\n1 hit\\n\\nThat\\'s where the \"1 hit\" comes from (obviously).  The version of nmh I\\'m\\nusing is ...\\n\\ndelta$ pick -version\\npick -- nmh-1.0.4 [compiled on fuchsia.cs.mu.OZ.AU at Sun Mar 17 14:55:56 ICT 2002]\\n\\nAnd the relevant part of my .mh_profile ...\\n\\ndelta$ mhparam pick\\n-seq sel -list\\n\\n\\nSince the pick command works, the sequence (actually, both of them, the\\none that\\'s explicit on the command line, from the search popup, and the\\none that comes from .mh_profile) do get created.\\n\\nkre\\n\\nps: this is still using the version of the code form a day ago, I haven\\'t\\nbeen able to reach the cvs repository today (local routing issue I think).\\n\\n\\n\\n_______________________________________________\\nExmh-workers mailing list\\nExmh-workers@redhat.com\\nhttps://listman.redhat.com/mailman/listinfo/exmh-workers\\n\\n'"
      ]
     },
     "execution_count": 5,
     "metadata": {},
     "output_type": "execute_result"
    }
   ],
   "source": [
    "# Look at example email - we can see it contains headers, sender & content\n",
    "df.iloc[0].emails"
   ]
  },
  {
   "cell_type": "code",
   "execution_count": 6,
   "id": "e6710ebe",
   "metadata": {},
   "outputs": [
    {
     "data": {
      "text/plain": [
       "emails    0\n",
       "labels    0\n",
       "dtype: int64"
      ]
     },
     "execution_count": 6,
     "metadata": {},
     "output_type": "execute_result"
    }
   ],
   "source": [
    "# Check for imported null values in our data that could ruin it\n",
    "df.isnull().sum()"
   ]
  },
  {
   "cell_type": "code",
   "execution_count": 7,
   "id": "55f327da",
   "metadata": {},
   "outputs": [],
   "source": [
    "# Encode \"spam/\" & \"ham/\" to 0 & 1\n",
    "from sklearn.preprocessing import LabelEncoder\n",
    "encoder = LabelEncoder()\n",
    "df['labels'] = encoder.fit_transform(df['labels'])"
   ]
  },
  {
   "cell_type": "code",
   "execution_count": 8,
   "id": "a77133a6",
   "metadata": {},
   "outputs": [
    {
     "data": {
      "text/html": [
       "<div>\n",
       "<style scoped>\n",
       "    .dataframe tbody tr th:only-of-type {\n",
       "        vertical-align: middle;\n",
       "    }\n",
       "\n",
       "    .dataframe tbody tr th {\n",
       "        vertical-align: top;\n",
       "    }\n",
       "\n",
       "    .dataframe thead th {\n",
       "        text-align: right;\n",
       "    }\n",
       "</style>\n",
       "<table border=\"1\" class=\"dataframe\">\n",
       "  <thead>\n",
       "    <tr style=\"text-align: right;\">\n",
       "      <th></th>\n",
       "      <th>emails</th>\n",
       "      <th>labels</th>\n",
       "    </tr>\n",
       "  </thead>\n",
       "  <tbody>\n",
       "    <tr>\n",
       "      <th>0</th>\n",
       "      <td>from exmh-workers-admin@redhat.com  thu aug 22...</td>\n",
       "      <td>0</td>\n",
       "    </tr>\n",
       "    <tr>\n",
       "      <th>1</th>\n",
       "      <td>from steve_burt@cursor-system.com  thu aug 22 ...</td>\n",
       "      <td>0</td>\n",
       "    </tr>\n",
       "    <tr>\n",
       "      <th>2</th>\n",
       "      <td>from timc@2ubh.com  thu aug 22 13:52:59 2002\\n...</td>\n",
       "      <td>0</td>\n",
       "    </tr>\n",
       "    <tr>\n",
       "      <th>3</th>\n",
       "      <td>from irregulars-admin@tb.tf  thu aug 22 14:23:...</td>\n",
       "      <td>0</td>\n",
       "    </tr>\n",
       "    <tr>\n",
       "      <th>4</th>\n",
       "      <td>from exmh-users-admin@redhat.com  thu aug 22 1...</td>\n",
       "      <td>0</td>\n",
       "    </tr>\n",
       "  </tbody>\n",
       "</table>\n",
       "</div>"
      ],
      "text/plain": [
       "                                              emails  labels\n",
       "0  from exmh-workers-admin@redhat.com  thu aug 22...       0\n",
       "1  from steve_burt@cursor-system.com  thu aug 22 ...       0\n",
       "2  from timc@2ubh.com  thu aug 22 13:52:59 2002\\n...       0\n",
       "3  from irregulars-admin@tb.tf  thu aug 22 14:23:...       0\n",
       "4  from exmh-users-admin@redhat.com  thu aug 22 1...       0"
      ]
     },
     "execution_count": 8,
     "metadata": {},
     "output_type": "execute_result"
    }
   ],
   "source": [
    "# Convert email content to lowercase (Casing of words shouldn't effect spam or not)\n",
    "df['emails'] = df['emails'].apply(lambda x:x.lower())\n",
    "df.head()"
   ]
  },
  {
   "cell_type": "code",
   "execution_count": 9,
   "id": "90fe2316",
   "metadata": {},
   "outputs": [],
   "source": [
    "# Item 2 we can see \\n for newline, there might also be \\t for tab or \\r for return\n",
    "# New lines won't add much value so lets replace them with space instead\n",
    "df['emails'] = df['emails'].apply(lambda x: x.replace('\\n', ' '))\n",
    "df['emails'] = df['emails'].apply(lambda x: x.replace('\\t', ' '))\n",
    "df['emails'] = df['emails'].apply(lambda x: x.replace('\\r', ' '))\n"
   ]
  },
  {
   "cell_type": "code",
   "execution_count": 10,
   "id": "5eaf6323",
   "metadata": {},
   "outputs": [
    {
     "name": "stderr",
     "output_type": "stream",
     "text": [
      "[nltk_data] Downloading package stopwords to\n",
      "[nltk_data]     C:\\Users\\rgaud\\AppData\\Roaming\\nltk_data...\n",
      "[nltk_data]   Package stopwords is already up-to-date!\n"
     ]
    }
   ],
   "source": [
    "# Stemming - Find the root of every word\n",
    "import nltk #Natural Language Toolkit\n",
    "nltk.download('stopwords')\n",
    "\n",
    "import re #Regular Expression\n",
    "from nltk.stem import PorterStemmer\n",
    "from nltk.corpus import stopwords\n",
    "\n",
    "ps = PorterStemmer()\n",
    "processed = [] # store processed data"
   ]
  },
  {
   "cell_type": "code",
   "execution_count": 11,
   "id": "fd054779",
   "metadata": {},
   "outputs": [
    {
     "data": {
      "application/vnd.jupyter.widget-view+json": {
       "model_id": "e95176a41aed48d8b6c351f7e4ef17a7",
       "version_major": 2,
       "version_minor": 0
      },
      "text/plain": [
       "IntProgress(value=0, max=3052)"
      ]
     },
     "metadata": {},
     "output_type": "display_data"
    }
   ],
   "source": [
    "# Needs to do this 3051 times - takes a while 5 mins - implemented progress bar\n",
    "from ipywidgets import IntProgress\n",
    "from IPython.display import display\n",
    "\n",
    "f = IntProgress(min=0, max=len(df)) # instantiate the bar\n",
    "display(f) # display the bar\n",
    "\n",
    "for i in range(len(df)):\n",
    "    f.value = i\n",
    "    # Remove special charactors & numbers - uses Regex\n",
    "    review = re.sub('[^A-Za-z0-9]', ' ', df['emails'][i])\n",
    "    review = review.split()\n",
    "    # Get the stem of the word if the word is not in StopWords\n",
    "    # Stop words include a, on, at, to, and ... \n",
    "    review = [ps.stem(word) for word in review if word not in stopwords.words('english')]\n",
    "    review = ' '.join(review)\n",
    "    processed.append(review)"
   ]
  },
  {
   "cell_type": "code",
   "execution_count": 12,
   "id": "c6651aa2",
   "metadata": {},
   "outputs": [],
   "source": [
    "# Using \"Bag of Words\" - converts the count of words to a simple vector\n",
    "from sklearn.feature_extraction.text import CountVectorizer\n",
    "cv = CountVectorizer(max_features = 3000) # Number of words to use in \"Bag of Words\"\n",
    "X = cv.fit_transform(processed).toarray()\n",
    "y = df['labels']"
   ]
  },
  {
   "cell_type": "code",
   "execution_count": 13,
   "id": "60dd5889",
   "metadata": {},
   "outputs": [],
   "source": [
    "# Split Data into Train & Test\n",
    "from sklearn.model_selection import train_test_split\n",
    "\n",
    "X_train, X_test, y_train, y_test = train_test_split(X, y, test_size = 0.2, random_state = 42)"
   ]
  },
  {
   "cell_type": "code",
   "execution_count": 14,
   "id": "e70d9ef2",
   "metadata": {
    "scrolled": true
   },
   "outputs": [],
   "source": [
    "# Algorithm - MultiNomial Naive Bayes\n",
    "from sklearn.naive_bayes import MultinomialNB\n",
    "model = MultinomialNB()\n",
    "model.fit(X_train, y_train)\n",
    "y_pred = model.predict(X_test)"
   ]
  },
  {
   "cell_type": "code",
   "execution_count": 16,
   "id": "7485b35d",
   "metadata": {},
   "outputs": [
    {
     "data": {
      "image/png": "[encoded data removed]",
      "text/plain": [
       "<Figure size 432x288 with 2 Axes>"
      ]
     },
     "metadata": {
      "needs_background": "light"
     },
     "output_type": "display_data"
    },
    {
     "name": "stdout",
     "output_type": "stream",
     "text": [
      "Accuracy: 98.36%\n",
      "Precision: 96.59%\n",
      "Recall: 92.39%\n",
      "F1 score: 94.44%\n"
     ]
    }
   ],
   "source": [
    "# Metrics - MultiNomial Naive Bayes\n",
    "from sklearn.metrics import accuracy_score, confusion_matrix, precision_score, recall_score, f1_score\n",
    "import matplotlib.pyplot as plt\n",
    "import seaborn as sns\n",
    "\n",
    "matrix = confusion_matrix(y_test, y_pred)\n",
    "\n",
    "#matrix_df = pd.DataFrame(matrix, index=[\"Ham\", \"Spam\"], columns=[\"Ham\", \"Spam\"])\n",
    "#confusion_df = matrix_df.astype('float')/matrix_df.sum(axis=1)\n",
    "s = sns.heatmap(matrix, annot=True, fmt='.3g', xticklabels=[\"Ham\", \"Spam\"], yticklabels=[\"Ham\", \"Spam\"])\n",
    "s.set(xlabel='Truth Values', ylabel='Predicted Values')\n",
    "plt.show()\n",
    "\n",
    "\n",
    "print(\"Accuracy: {:.2f}%\".format(100 * accuracy_score(y_test, y_pred)))\n",
    "print(\"Precision: {:.2f}%\".format(100 * precision_score(y_test, y_pred)))\n",
    "print(\"Recall: {:.2f}%\".format(100 * recall_score(y_test, y_pred)))\n",
    "print(\"F1 score: {:.2f}%\".format(100 * f1_score(y_test, y_pred)))"
   ]
  },
  {
   "cell_type": "code",
   "execution_count": null,
   "id": "dec41842",
   "metadata": {},
   "outputs": [],
   "source": []
  }
 ],
 "metadata": {
  "kernelspec": {
   "display_name": "Python 3 (ipykernel)",
   "language": "python",
   "name": "python3"
  },
  "language_info": {
   "codemirror_mode": {
    "name": "ipython",
    "version": 3
   },
   "file_extension": ".py",
   "mimetype": "text/x-python",
   "name": "python",
   "nbconvert_exporter": "python",
   "pygments_lexer": "ipython3",
   "version": "3.9.7"
  }
 },
 "nbformat": 4,
 "nbformat_minor": 5
}
